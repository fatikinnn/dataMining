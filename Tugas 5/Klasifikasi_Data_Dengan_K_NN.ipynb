{
  "nbformat": 4,
  "nbformat_minor": 0,
  "metadata": {
    "colab": {
      "provenance": []
    },
    "kernelspec": {
      "name": "python3",
      "display_name": "Python 3"
    },
    "language_info": {
      "name": "python"
    }
  },
  "cells": [
    {
      "cell_type": "code",
      "execution_count": 34,
      "metadata": {
        "id": "1nqQaJ93nhuJ"
      },
      "outputs": [],
      "source": [
        "import numpy as np\n",
        "import matplotlib.pyplot as plt\n",
        "import pandas as pd"
      ]
    },
    {
      "cell_type": "code",
      "source": [
        "dataset = pd.read_csv('Pengunjung_Mall.csv')"
      ],
      "metadata": {
        "id": "yYHQyBASoOwJ"
      },
      "execution_count": 64,
      "outputs": []
    },
    {
      "cell_type": "code",
      "source": [
        "dataset.head()"
      ],
      "metadata": {
        "colab": {
          "base_uri": "https://localhost:8080/",
          "height": 206
        },
        "id": "NgRNYe5goW-L",
        "outputId": "9e0f3509-e07d-41c7-b8fb-71038298400c"
      },
      "execution_count": 65,
      "outputs": [
        {
          "output_type": "execute_result",
          "data": {
            "text/plain": [
              "   ID_Pelanggan  Gender  Usia  Pendapatan_Tahunan_Ribuan_USD  Pengeluaran_USD\n",
              "0             1    Pria    19                             15               39\n",
              "1             2    Pria    21                             15               81\n",
              "2             3  Wanita    20                             16                6\n",
              "3             4  Wanita    23                             16               77\n",
              "4             5  Wanita    31                             17               40"
            ],
            "text/html": [
              "\n",
              "  <div id=\"df-da744194-f873-496f-890d-140823a3fdae\">\n",
              "    <div class=\"colab-df-container\">\n",
              "      <div>\n",
              "<style scoped>\n",
              "    .dataframe tbody tr th:only-of-type {\n",
              "        vertical-align: middle;\n",
              "    }\n",
              "\n",
              "    .dataframe tbody tr th {\n",
              "        vertical-align: top;\n",
              "    }\n",
              "\n",
              "    .dataframe thead th {\n",
              "        text-align: right;\n",
              "    }\n",
              "</style>\n",
              "<table border=\"1\" class=\"dataframe\">\n",
              "  <thead>\n",
              "    <tr style=\"text-align: right;\">\n",
              "      <th></th>\n",
              "      <th>ID_Pelanggan</th>\n",
              "      <th>Gender</th>\n",
              "      <th>Usia</th>\n",
              "      <th>Pendapatan_Tahunan_Ribuan_USD</th>\n",
              "      <th>Pengeluaran_USD</th>\n",
              "    </tr>\n",
              "  </thead>\n",
              "  <tbody>\n",
              "    <tr>\n",
              "      <th>0</th>\n",
              "      <td>1</td>\n",
              "      <td>Pria</td>\n",
              "      <td>19</td>\n",
              "      <td>15</td>\n",
              "      <td>39</td>\n",
              "    </tr>\n",
              "    <tr>\n",
              "      <th>1</th>\n",
              "      <td>2</td>\n",
              "      <td>Pria</td>\n",
              "      <td>21</td>\n",
              "      <td>15</td>\n",
              "      <td>81</td>\n",
              "    </tr>\n",
              "    <tr>\n",
              "      <th>2</th>\n",
              "      <td>3</td>\n",
              "      <td>Wanita</td>\n",
              "      <td>20</td>\n",
              "      <td>16</td>\n",
              "      <td>6</td>\n",
              "    </tr>\n",
              "    <tr>\n",
              "      <th>3</th>\n",
              "      <td>4</td>\n",
              "      <td>Wanita</td>\n",
              "      <td>23</td>\n",
              "      <td>16</td>\n",
              "      <td>77</td>\n",
              "    </tr>\n",
              "    <tr>\n",
              "      <th>4</th>\n",
              "      <td>5</td>\n",
              "      <td>Wanita</td>\n",
              "      <td>31</td>\n",
              "      <td>17</td>\n",
              "      <td>40</td>\n",
              "    </tr>\n",
              "  </tbody>\n",
              "</table>\n",
              "</div>\n",
              "      <button class=\"colab-df-convert\" onclick=\"convertToInteractive('df-da744194-f873-496f-890d-140823a3fdae')\"\n",
              "              title=\"Convert this dataframe to an interactive table.\"\n",
              "              style=\"display:none;\">\n",
              "        \n",
              "  <svg xmlns=\"http://www.w3.org/2000/svg\" height=\"24px\"viewBox=\"0 0 24 24\"\n",
              "       width=\"24px\">\n",
              "    <path d=\"M0 0h24v24H0V0z\" fill=\"none\"/>\n",
              "    <path d=\"M18.56 5.44l.94 2.06.94-2.06 2.06-.94-2.06-.94-.94-2.06-.94 2.06-2.06.94zm-11 1L8.5 8.5l.94-2.06 2.06-.94-2.06-.94L8.5 2.5l-.94 2.06-2.06.94zm10 10l.94 2.06.94-2.06 2.06-.94-2.06-.94-.94-2.06-.94 2.06-2.06.94z\"/><path d=\"M17.41 7.96l-1.37-1.37c-.4-.4-.92-.59-1.43-.59-.52 0-1.04.2-1.43.59L10.3 9.45l-7.72 7.72c-.78.78-.78 2.05 0 2.83L4 21.41c.39.39.9.59 1.41.59.51 0 1.02-.2 1.41-.59l7.78-7.78 2.81-2.81c.8-.78.8-2.07 0-2.86zM5.41 20L4 18.59l7.72-7.72 1.47 1.35L5.41 20z\"/>\n",
              "  </svg>\n",
              "      </button>\n",
              "      \n",
              "  <style>\n",
              "    .colab-df-container {\n",
              "      display:flex;\n",
              "      flex-wrap:wrap;\n",
              "      gap: 12px;\n",
              "    }\n",
              "\n",
              "    .colab-df-convert {\n",
              "      background-color: #E8F0FE;\n",
              "      border: none;\n",
              "      border-radius: 50%;\n",
              "      cursor: pointer;\n",
              "      display: none;\n",
              "      fill: #1967D2;\n",
              "      height: 32px;\n",
              "      padding: 0 0 0 0;\n",
              "      width: 32px;\n",
              "    }\n",
              "\n",
              "    .colab-df-convert:hover {\n",
              "      background-color: #E2EBFA;\n",
              "      box-shadow: 0px 1px 2px rgba(60, 64, 67, 0.3), 0px 1px 3px 1px rgba(60, 64, 67, 0.15);\n",
              "      fill: #174EA6;\n",
              "    }\n",
              "\n",
              "    [theme=dark] .colab-df-convert {\n",
              "      background-color: #3B4455;\n",
              "      fill: #D2E3FC;\n",
              "    }\n",
              "\n",
              "    [theme=dark] .colab-df-convert:hover {\n",
              "      background-color: #434B5C;\n",
              "      box-shadow: 0px 1px 3px 1px rgba(0, 0, 0, 0.15);\n",
              "      filter: drop-shadow(0px 1px 2px rgba(0, 0, 0, 0.3));\n",
              "      fill: #FFFFFF;\n",
              "    }\n",
              "  </style>\n",
              "\n",
              "      <script>\n",
              "        const buttonEl =\n",
              "          document.querySelector('#df-da744194-f873-496f-890d-140823a3fdae button.colab-df-convert');\n",
              "        buttonEl.style.display =\n",
              "          google.colab.kernel.accessAllowed ? 'block' : 'none';\n",
              "\n",
              "        async function convertToInteractive(key) {\n",
              "          const element = document.querySelector('#df-da744194-f873-496f-890d-140823a3fdae');\n",
              "          const dataTable =\n",
              "            await google.colab.kernel.invokeFunction('convertToInteractive',\n",
              "                                                     [key], {});\n",
              "          if (!dataTable) return;\n",
              "\n",
              "          const docLinkHtml = 'Like what you see? Visit the ' +\n",
              "            '<a target=\"_blank\" href=https://colab.research.google.com/notebooks/data_table.ipynb>data table notebook</a>'\n",
              "            + ' to learn more about interactive tables.';\n",
              "          element.innerHTML = '';\n",
              "          dataTable['output_type'] = 'display_data';\n",
              "          await google.colab.output.renderOutput(dataTable, element);\n",
              "          const docLink = document.createElement('div');\n",
              "          docLink.innerHTML = docLinkHtml;\n",
              "          element.appendChild(docLink);\n",
              "        }\n",
              "      </script>\n",
              "    </div>\n",
              "  </div>\n",
              "  "
            ]
          },
          "metadata": {},
          "execution_count": 65
        }
      ]
    },
    {
      "cell_type": "code",
      "source": [
        "x = dataset.iloc[:, [2,3]].values\n",
        "y = dataset.iloc[:, -1].values"
      ],
      "metadata": {
        "id": "zesUQYqJokdj"
      },
      "execution_count": 66,
      "outputs": []
    },
    {
      "cell_type": "code",
      "source": [
        "print(x)"
      ],
      "metadata": {
        "colab": {
          "base_uri": "https://localhost:8080/"
        },
        "id": "MrqgPcAMo7gZ",
        "outputId": "3a0e7744-d336-4d6b-da97-575f066d8351"
      },
      "execution_count": 67,
      "outputs": [
        {
          "output_type": "stream",
          "name": "stdout",
          "text": [
            "[[ 19  15]\n",
            " [ 21  15]\n",
            " [ 20  16]\n",
            " [ 23  16]\n",
            " [ 31  17]\n",
            " [ 22  17]\n",
            " [ 35  18]\n",
            " [ 23  18]\n",
            " [ 64  19]\n",
            " [ 30  19]\n",
            " [ 67  19]\n",
            " [ 35  19]\n",
            " [ 58  20]\n",
            " [ 24  20]\n",
            " [ 37  20]\n",
            " [ 22  20]\n",
            " [ 35  21]\n",
            " [ 20  21]\n",
            " [ 52  23]\n",
            " [ 35  23]\n",
            " [ 35  24]\n",
            " [ 25  24]\n",
            " [ 46  25]\n",
            " [ 31  25]\n",
            " [ 54  28]\n",
            " [ 29  28]\n",
            " [ 45  28]\n",
            " [ 35  28]\n",
            " [ 40  29]\n",
            " [ 23  29]\n",
            " [ 60  30]\n",
            " [ 21  30]\n",
            " [ 53  33]\n",
            " [ 18  33]\n",
            " [ 49  33]\n",
            " [ 21  33]\n",
            " [ 42  34]\n",
            " [ 30  34]\n",
            " [ 36  37]\n",
            " [ 20  37]\n",
            " [ 65  38]\n",
            " [ 24  38]\n",
            " [ 48  39]\n",
            " [ 31  39]\n",
            " [ 49  39]\n",
            " [ 24  39]\n",
            " [ 50  40]\n",
            " [ 27  40]\n",
            " [ 29  40]\n",
            " [ 31  40]\n",
            " [ 49  42]\n",
            " [ 33  42]\n",
            " [ 31  43]\n",
            " [ 59  43]\n",
            " [ 50  43]\n",
            " [ 47  43]\n",
            " [ 51  44]\n",
            " [ 69  44]\n",
            " [ 27  46]\n",
            " [ 53  46]\n",
            " [ 70  46]\n",
            " [ 19  46]\n",
            " [ 67  47]\n",
            " [ 54  47]\n",
            " [ 63  48]\n",
            " [ 18  48]\n",
            " [ 43  48]\n",
            " [ 68  48]\n",
            " [ 19  48]\n",
            " [ 32  48]\n",
            " [ 70  49]\n",
            " [ 47  49]\n",
            " [ 60  50]\n",
            " [ 60  50]\n",
            " [ 59  54]\n",
            " [ 26  54]\n",
            " [ 45  54]\n",
            " [ 40  54]\n",
            " [ 23  54]\n",
            " [ 49  54]\n",
            " [ 57  54]\n",
            " [ 38  54]\n",
            " [ 67  54]\n",
            " [ 46  54]\n",
            " [ 21  54]\n",
            " [ 48  54]\n",
            " [ 55  57]\n",
            " [ 22  57]\n",
            " [ 34  58]\n",
            " [ 50  58]\n",
            " [ 68  59]\n",
            " [ 18  59]\n",
            " [ 48  60]\n",
            " [ 40  60]\n",
            " [ 32  60]\n",
            " [ 24  60]\n",
            " [ 47  60]\n",
            " [ 27  60]\n",
            " [ 48  61]\n",
            " [ 20  61]\n",
            " [ 23  62]\n",
            " [ 49  62]\n",
            " [ 67  62]\n",
            " [ 26  62]\n",
            " [ 49  62]\n",
            " [ 21  62]\n",
            " [ 66  63]\n",
            " [ 54  63]\n",
            " [ 68  63]\n",
            " [ 66  63]\n",
            " [ 65  63]\n",
            " [ 19  63]\n",
            " [ 38  64]\n",
            " [ 19  64]\n",
            " [ 18  65]\n",
            " [ 19  65]\n",
            " [ 63  65]\n",
            " [ 49  65]\n",
            " [ 51  67]\n",
            " [ 50  67]\n",
            " [ 27  67]\n",
            " [ 38  67]\n",
            " [ 40  69]\n",
            " [ 39  69]\n",
            " [ 23  70]\n",
            " [ 31  70]\n",
            " [ 43  71]\n",
            " [ 40  71]\n",
            " [ 59  71]\n",
            " [ 38  71]\n",
            " [ 47  71]\n",
            " [ 39  71]\n",
            " [ 25  72]\n",
            " [ 31  72]\n",
            " [ 20  73]\n",
            " [ 29  73]\n",
            " [ 44  73]\n",
            " [ 32  73]\n",
            " [ 19  74]\n",
            " [ 35  74]\n",
            " [ 57  75]\n",
            " [ 32  75]\n",
            " [ 28  76]\n",
            " [ 32  76]\n",
            " [ 25  77]\n",
            " [ 28  77]\n",
            " [ 48  77]\n",
            " [ 32  77]\n",
            " [ 34  78]\n",
            " [ 34  78]\n",
            " [ 43  78]\n",
            " [ 39  78]\n",
            " [ 44  78]\n",
            " [ 38  78]\n",
            " [ 47  78]\n",
            " [ 27  78]\n",
            " [ 37  78]\n",
            " [ 30  78]\n",
            " [ 34  78]\n",
            " [ 30  78]\n",
            " [ 56  79]\n",
            " [ 29  79]\n",
            " [ 19  81]\n",
            " [ 31  81]\n",
            " [ 50  85]\n",
            " [ 36  85]\n",
            " [ 42  86]\n",
            " [ 33  86]\n",
            " [ 36  87]\n",
            " [ 32  87]\n",
            " [ 40  87]\n",
            " [ 28  87]\n",
            " [ 36  87]\n",
            " [ 36  87]\n",
            " [ 52  88]\n",
            " [ 30  88]\n",
            " [ 58  88]\n",
            " [ 27  88]\n",
            " [ 59  93]\n",
            " [ 35  93]\n",
            " [ 37  97]\n",
            " [ 32  97]\n",
            " [ 46  98]\n",
            " [ 29  98]\n",
            " [ 41  99]\n",
            " [ 30  99]\n",
            " [ 54 101]\n",
            " [ 28 101]\n",
            " [ 41 103]\n",
            " [ 36 103]\n",
            " [ 34 103]\n",
            " [ 32 103]\n",
            " [ 33 113]\n",
            " [ 38 113]\n",
            " [ 47 120]\n",
            " [ 35 120]\n",
            " [ 45 126]\n",
            " [ 32 126]\n",
            " [ 32 137]\n",
            " [ 30 137]]\n"
          ]
        }
      ]
    },
    {
      "cell_type": "code",
      "source": [
        "print(y)"
      ],
      "metadata": {
        "colab": {
          "base_uri": "https://localhost:8080/"
        },
        "id": "uyveGnbApBrv",
        "outputId": "6da7971a-241c-4fd6-c8d9-cf62addb2676"
      },
      "execution_count": 68,
      "outputs": [
        {
          "output_type": "stream",
          "name": "stdout",
          "text": [
            "[39 81  6 77 40 76  6 94  3 72 14 99 15 77 13 79 35 66 29 98 35 73  5 73\n",
            " 14 82 32 61 31 87  4 73  4 92 14 81 17 73 26 75 35 92 36 61 28 65 55 47\n",
            " 42 42 52 60 54 60 45 41 50 46 51 46 56 55 52 59 51 59 50 48 59 47 55 42\n",
            " 49 56 47 54 53 48 52 42 51 55 41 44 57 46 58 55 60 46 55 41 49 40 42 52\n",
            " 47 50 42 49 41 48 59 55 56 42 50 46 43 48 52 54 42 46 48 50 43 59 43 57\n",
            " 56 40 58 91 29 77 35 95 11 75  9 75 34 71  5 88  7 73 10 72  5 93 40 87\n",
            " 12 97 36 74 22 90 17 88 20 76 16 89  1 78  1 73 35 83  5 93 26 75 20 95\n",
            " 27 63 13 75 10 92 13 86 15 69 14 90 32 86 15 88 39 97 24 68 17 85 23 69\n",
            "  8 91 16 79 28 74 18 83]\n"
          ]
        }
      ]
    },
    {
      "cell_type": "code",
      "source": [
        "from sklearn.model_selection import train_test_split\n",
        "x_train, x_test, y_train, y_test = train_test_split(x, y, test_size = 0.25, random_state = 0)"
      ],
      "metadata": {
        "id": "nRjGTk_VpFze"
      },
      "execution_count": 69,
      "outputs": []
    },
    {
      "cell_type": "code",
      "source": [
        "print(x_train)"
      ],
      "metadata": {
        "colab": {
          "base_uri": "https://localhost:8080/"
        },
        "id": "V7r2F8BGptKr",
        "outputId": "fe50efb9-b995-4abe-fb62-f393c0eec28a"
      },
      "execution_count": 70,
      "outputs": [
        {
          "output_type": "stream",
          "name": "stdout",
          "text": [
            "[[ 47  49]\n",
            " [ 23  70]\n",
            " [ 41  99]\n",
            " [ 27  60]\n",
            " [ 34  78]\n",
            " [ 54  28]\n",
            " [ 60  30]\n",
            " [ 56  79]\n",
            " [ 65  38]\n",
            " [ 51  44]\n",
            " [ 39  71]\n",
            " [ 47  60]\n",
            " [ 32  97]\n",
            " [ 35  23]\n",
            " [ 38  78]\n",
            " [ 48  60]\n",
            " [ 50  43]\n",
            " [ 31  81]\n",
            " [ 33  42]\n",
            " [ 55  57]\n",
            " [ 35  74]\n",
            " [ 68  59]\n",
            " [ 32  73]\n",
            " [ 49  62]\n",
            " [ 25  77]\n",
            " [ 50  58]\n",
            " [ 66  63]\n",
            " [ 37  20]\n",
            " [ 35  28]\n",
            " [ 32  75]\n",
            " [ 28 101]\n",
            " [ 50  40]\n",
            " [ 19  74]\n",
            " [ 35 120]\n",
            " [ 68  63]\n",
            " [ 67  47]\n",
            " [ 20  16]\n",
            " [ 53  46]\n",
            " [ 44  73]\n",
            " [ 32 126]\n",
            " [ 31  39]\n",
            " [ 67  19]\n",
            " [ 47 120]\n",
            " [ 60  50]\n",
            " [ 45 126]\n",
            " [ 59  93]\n",
            " [ 30  88]\n",
            " [ 43  71]\n",
            " [ 40  60]\n",
            " [ 38  64]\n",
            " [ 34  78]\n",
            " [ 32 103]\n",
            " [ 49  42]\n",
            " [ 19  15]\n",
            " [ 32  60]\n",
            " [ 65  63]\n",
            " [ 24  60]\n",
            " [ 63  48]\n",
            " [ 33  86]\n",
            " [ 24  38]\n",
            " [ 32  48]\n",
            " [ 31  40]\n",
            " [ 29  40]\n",
            " [ 48  54]\n",
            " [ 24  20]\n",
            " [ 29  79]\n",
            " [ 31  25]\n",
            " [ 54 101]\n",
            " [ 29  73]\n",
            " [ 35  24]\n",
            " [ 22  20]\n",
            " [ 23  54]\n",
            " [ 49  62]\n",
            " [ 31  43]\n",
            " [ 23  62]\n",
            " [ 45  54]\n",
            " [ 23  16]\n",
            " [ 63  65]\n",
            " [ 50  85]\n",
            " [ 32 137]\n",
            " [ 35  18]\n",
            " [ 19  48]\n",
            " [ 21  54]\n",
            " [ 38  67]\n",
            " [ 27  78]\n",
            " [ 28  87]\n",
            " [ 37  78]\n",
            " [ 18  59]\n",
            " [ 30 137]\n",
            " [ 35  19]\n",
            " [ 50  67]\n",
            " [ 67  62]\n",
            " [ 21  33]\n",
            " [ 69  44]\n",
            " [ 18  48]\n",
            " [ 21  15]\n",
            " [ 27  67]\n",
            " [ 19  81]\n",
            " [ 48  39]\n",
            " [ 21  62]\n",
            " [ 25  72]\n",
            " [ 36  87]\n",
            " [ 20  21]\n",
            " [ 36  37]\n",
            " [ 31  72]\n",
            " [ 59  43]\n",
            " [ 30  78]\n",
            " [ 59  71]\n",
            " [ 49  33]\n",
            " [ 40  29]\n",
            " [ 18  65]\n",
            " [ 39  78]\n",
            " [ 21  30]\n",
            " [ 42  86]\n",
            " [ 40  71]\n",
            " [ 58  88]\n",
            " [ 53  33]\n",
            " [ 28  76]\n",
            " [ 32  87]\n",
            " [ 32  77]\n",
            " [ 23  29]\n",
            " [ 20  61]\n",
            " [ 67  54]\n",
            " [ 49  54]\n",
            " [ 19  65]\n",
            " [ 34  78]\n",
            " [ 38 113]\n",
            " [ 60  50]\n",
            " [ 40  54]\n",
            " [ 29  28]\n",
            " [ 36  85]\n",
            " [ 38  54]\n",
            " [ 41 103]\n",
            " [ 52  88]\n",
            " [ 34 103]\n",
            " [ 20  37]\n",
            " [ 27  46]\n",
            " [ 57  75]\n",
            " [ 34  58]\n",
            " [ 70  49]\n",
            " [ 22  57]\n",
            " [ 42  34]\n",
            " [ 25  24]\n",
            " [ 30  19]\n",
            " [ 26  62]\n",
            " [ 68  48]\n",
            " [ 33 113]\n",
            " [ 49  65]\n",
            " [ 27  40]\n",
            " [ 36  87]]\n"
          ]
        }
      ]
    },
    {
      "cell_type": "code",
      "source": [
        "len(x_train)"
      ],
      "metadata": {
        "colab": {
          "base_uri": "https://localhost:8080/"
        },
        "id": "otJT9zt6py6P",
        "outputId": "33610422-c5a2-48e6-cabc-b44f4b1ce566"
      },
      "execution_count": 71,
      "outputs": [
        {
          "output_type": "execute_result",
          "data": {
            "text/plain": [
              "150"
            ]
          },
          "metadata": {},
          "execution_count": 71
        }
      ]
    },
    {
      "cell_type": "code",
      "source": [
        "len(x)"
      ],
      "metadata": {
        "colab": {
          "base_uri": "https://localhost:8080/"
        },
        "id": "RJmQaXzkp2Tm",
        "outputId": "d604923e-61f0-4ec5-f958-cb011c639a2b"
      },
      "execution_count": 72,
      "outputs": [
        {
          "output_type": "execute_result",
          "data": {
            "text/plain": [
              "200"
            ]
          },
          "metadata": {},
          "execution_count": 72
        }
      ]
    },
    {
      "cell_type": "code",
      "source": [
        "len(x_test)"
      ],
      "metadata": {
        "colab": {
          "base_uri": "https://localhost:8080/"
        },
        "id": "wrbKn_l2p7IV",
        "outputId": "cd33210f-9e7f-4fa3-d852-8de2b291ab92"
      },
      "execution_count": 73,
      "outputs": [
        {
          "output_type": "execute_result",
          "data": {
            "text/plain": [
              "50"
            ]
          },
          "metadata": {},
          "execution_count": 73
        }
      ]
    },
    {
      "cell_type": "code",
      "source": [
        "len(y)"
      ],
      "metadata": {
        "colab": {
          "base_uri": "https://localhost:8080/"
        },
        "id": "wMS4EAmtp_MB",
        "outputId": "51984018-7572-47d2-e40b-02e6b5eefd94"
      },
      "execution_count": 74,
      "outputs": [
        {
          "output_type": "execute_result",
          "data": {
            "text/plain": [
              "200"
            ]
          },
          "metadata": {},
          "execution_count": 74
        }
      ]
    },
    {
      "cell_type": "code",
      "source": [
        "len(y_test)"
      ],
      "metadata": {
        "colab": {
          "base_uri": "https://localhost:8080/"
        },
        "id": "3DQSBmOQqBzV",
        "outputId": "77bdac70-7be1-40bc-ec8b-376634d0a25c"
      },
      "execution_count": 75,
      "outputs": [
        {
          "output_type": "execute_result",
          "data": {
            "text/plain": [
              "50"
            ]
          },
          "metadata": {},
          "execution_count": 75
        }
      ]
    },
    {
      "cell_type": "code",
      "source": [
        "len(y_train)"
      ],
      "metadata": {
        "colab": {
          "base_uri": "https://localhost:8080/"
        },
        "id": "dcngwxVBqFmu",
        "outputId": "e12166c8-2a30-46cf-927d-4673b19e2a3d"
      },
      "execution_count": 76,
      "outputs": [
        {
          "output_type": "execute_result",
          "data": {
            "text/plain": [
              "150"
            ]
          },
          "metadata": {},
          "execution_count": 76
        }
      ]
    },
    {
      "cell_type": "code",
      "source": [
        "from sklearn.preprocessing import StandardScaler\n",
        "sc = StandardScaler()\n",
        "x_train = sc.fit_transform(x_train)\n",
        "x_test = sc.transform(x_test)"
      ],
      "metadata": {
        "id": "Xv0PomIvqTkV"
      },
      "execution_count": 77,
      "outputs": []
    },
    {
      "cell_type": "code",
      "source": [
        "print(x_train)"
      ],
      "metadata": {
        "colab": {
          "base_uri": "https://localhost:8080/"
        },
        "id": "aYNziv4fqsEA",
        "outputId": "54427883-ec9e-4619-b2b8-95cd924953e3"
      },
      "execution_count": 78,
      "outputs": [
        {
          "output_type": "stream",
          "name": "stdout",
          "text": [
            "[[ 0.59131873 -0.44803883]\n",
            " [-1.10084935  0.34173303]\n",
            " [ 0.16827671  1.43237037]\n",
            " [-0.81882133 -0.03434881]\n",
            " [-0.32527231  0.6425985 ]\n",
            " [ 1.08486776 -1.23781069]\n",
            " [ 1.50790978 -1.16259433]\n",
            " [ 1.22588177  0.68020669]\n",
            " [ 1.8604448  -0.86172885]\n",
            " [ 0.87334675 -0.63607975]\n",
            " [ 0.02726271  0.37934122]\n",
            " [ 0.59131873 -0.03434881]\n",
            " [-0.46628632  1.357154  ]\n",
            " [-0.25476531 -1.42585161]\n",
            " [-0.0432443   0.6425985 ]\n",
            " [ 0.66182574 -0.03434881]\n",
            " [ 0.80283975 -0.67368793]\n",
            " [-0.53679332  0.75542305]\n",
            " [-0.39577931 -0.71129612]\n",
            " [ 1.15537476 -0.14717336]\n",
            " [-0.25476531  0.49216577]\n",
            " [ 2.07196581 -0.07195699]\n",
            " [-0.46628632  0.45455758]\n",
            " [ 0.73233274  0.04086756]\n",
            " [-0.95983534  0.60499032]\n",
            " [ 0.80283975 -0.10956518]\n",
            " [ 1.9309518   0.07847574]\n",
            " [-0.1137513  -1.53867617]\n",
            " [-0.25476531 -1.23781069]\n",
            " [-0.46628632  0.52977395]\n",
            " [-0.74831433  1.50758673]\n",
            " [ 0.80283975 -0.78651249]\n",
            " [-1.38287736  0.49216577]\n",
            " [-0.25476531  2.22214223]\n",
            " [ 2.07196581  0.07847574]\n",
            " [ 2.0014588  -0.5232552 ]\n",
            " [-1.31237036 -1.6891089 ]\n",
            " [ 1.01436076 -0.56086338]\n",
            " [ 0.37979772  0.45455758]\n",
            " [-0.46628632  2.44779133]\n",
            " [-0.53679332 -0.82412067]\n",
            " [ 2.0014588  -1.57628435]\n",
            " [ 0.59131873  2.22214223]\n",
            " [ 1.50790978 -0.41043065]\n",
            " [ 0.45030473  2.44779133]\n",
            " [ 1.43740278  1.20672126]\n",
            " [-0.60730032  1.01868034]\n",
            " [ 0.30929072  0.37934122]\n",
            " [ 0.09776971 -0.03434881]\n",
            " [-0.0432443   0.11608393]\n",
            " [-0.32527231  0.6425985 ]\n",
            " [-0.46628632  1.5828031 ]\n",
            " [ 0.73233274 -0.71129612]\n",
            " [-1.38287736 -1.72671709]\n",
            " [-0.46628632 -0.03434881]\n",
            " [ 1.8604448   0.07847574]\n",
            " [-1.03034234 -0.03434881]\n",
            " [ 1.71943079 -0.48564702]\n",
            " [-0.39577931  0.94346397]\n",
            " [-1.03034234 -0.86172885]\n",
            " [-0.46628632 -0.48564702]\n",
            " [-0.53679332 -0.78651249]\n",
            " [-0.67780733 -0.78651249]\n",
            " [ 0.66182574 -0.25999791]\n",
            " [-1.03034234 -1.53867617]\n",
            " [-0.67780733  0.68020669]\n",
            " [-0.53679332 -1.35063525]\n",
            " [ 1.08486776  1.50758673]\n",
            " [-0.67780733  0.45455758]\n",
            " [-0.25476531 -1.38824343]\n",
            " [-1.17135635 -1.53867617]\n",
            " [-1.10084935 -0.25999791]\n",
            " [ 0.73233274  0.04086756]\n",
            " [-0.53679332 -0.67368793]\n",
            " [-1.10084935  0.04086756]\n",
            " [ 0.45030473 -0.25999791]\n",
            " [-1.10084935 -1.6891089 ]\n",
            " [ 1.71943079  0.15369211]\n",
            " [ 0.80283975  0.90585579]\n",
            " [-0.46628632  2.86148135]\n",
            " [-0.25476531 -1.61389253]\n",
            " [-1.38287736 -0.48564702]\n",
            " [-1.24186335 -0.25999791]\n",
            " [-0.0432443   0.22890848]\n",
            " [-0.81882133  0.6425985 ]\n",
            " [-0.74831433  0.98107216]\n",
            " [-0.1137513   0.6425985 ]\n",
            " [-1.45338436 -0.07195699]\n",
            " [-0.60730032  2.86148135]\n",
            " [-0.25476531 -1.57628435]\n",
            " [ 0.80283975  0.22890848]\n",
            " [ 2.0014588   0.04086756]\n",
            " [-1.24186335 -1.04976977]\n",
            " [ 2.14247281 -0.63607975]\n",
            " [-1.45338436 -0.48564702]\n",
            " [-1.24186335 -1.72671709]\n",
            " [-0.81882133  0.22890848]\n",
            " [-1.38287736  0.75542305]\n",
            " [ 0.66182574 -0.82412067]\n",
            " [-1.24186335  0.04086756]\n",
            " [-0.95983534  0.4169494 ]\n",
            " [-0.1842583   0.98107216]\n",
            " [-1.31237036 -1.50106798]\n",
            " [-0.1842583  -0.89933704]\n",
            " [-0.53679332  0.4169494 ]\n",
            " [ 1.43740278 -0.67368793]\n",
            " [-0.60730032  0.6425985 ]\n",
            " [ 1.43740278  0.37934122]\n",
            " [ 0.73233274 -1.04976977]\n",
            " [ 0.09776971 -1.20020251]\n",
            " [-1.45338436  0.15369211]\n",
            " [ 0.02726271  0.6425985 ]\n",
            " [-1.24186335 -1.16259433]\n",
            " [ 0.23878372  0.94346397]\n",
            " [ 0.09776971  0.37934122]\n",
            " [ 1.36689577  1.01868034]\n",
            " [ 1.01436076 -1.04976977]\n",
            " [-0.74831433  0.56738213]\n",
            " [-0.46628632  0.98107216]\n",
            " [-0.46628632  0.60499032]\n",
            " [-1.10084935 -1.20020251]\n",
            " [-1.31237036  0.00325938]\n",
            " [ 2.0014588  -0.25999791]\n",
            " [ 0.73233274 -0.25999791]\n",
            " [-1.38287736  0.15369211]\n",
            " [-0.32527231  0.6425985 ]\n",
            " [-0.0432443   1.95888494]\n",
            " [ 1.50790978 -0.41043065]\n",
            " [ 0.09776971 -0.25999791]\n",
            " [-0.67780733 -1.23781069]\n",
            " [-0.1842583   0.90585579]\n",
            " [-0.0432443  -0.25999791]\n",
            " [ 0.16827671  1.5828031 ]\n",
            " [ 0.94385375  1.01868034]\n",
            " [-0.32527231  1.5828031 ]\n",
            " [-1.31237036 -0.89933704]\n",
            " [-0.81882133 -0.56086338]\n",
            " [ 1.29638877  0.52977395]\n",
            " [-0.32527231 -0.10956518]\n",
            " [ 2.21297981 -0.44803883]\n",
            " [-1.17135635 -0.14717336]\n",
            " [ 0.23878372 -1.01216159]\n",
            " [-0.95983534 -1.38824343]\n",
            " [-0.60730032 -1.57628435]\n",
            " [-0.88932834  0.04086756]\n",
            " [ 2.07196581 -0.48564702]\n",
            " [-0.39577931  1.95888494]\n",
            " [ 0.73233274  0.15369211]\n",
            " [-0.81882133 -0.78651249]\n",
            " [-0.1842583   0.98107216]]\n"
          ]
        }
      ]
    },
    {
      "cell_type": "code",
      "source": [
        "print(x_test)"
      ],
      "metadata": {
        "colab": {
          "base_uri": "https://localhost:8080/"
        },
        "id": "Ln8ahhJRqxpW",
        "outputId": "59eecc89-14a2-4fbc-d662-1fccc6750a36"
      },
      "execution_count": 79,
      "outputs": [
        {
          "output_type": "stream",
          "name": "stdout",
          "text": [
            "[[ 0.94385375 -1.42585161]\n",
            " [ 0.09776971  0.98107216]\n",
            " [ 1.08486776  0.07847574]\n",
            " [ 0.66182574  0.00325938]\n",
            " [-0.81882133  1.01868034]\n",
            " [ 0.52081173  1.39476218]\n",
            " [-1.17135635 -1.65150072]\n",
            " [ 0.66182574  0.60499032]\n",
            " [ 1.36689577 -1.53867617]\n",
            " [ 0.37979772  0.6425985 ]\n",
            " [-1.38287736 -0.56086338]\n",
            " [-0.53679332  0.34173303]\n",
            " [-0.1137513   1.357154  ]\n",
            " [ 0.59131873  0.6425985 ]\n",
            " [ 1.29638877 -0.25999791]\n",
            " [-1.10084935 -1.61389253]\n",
            " [-1.45338436 -1.04976977]\n",
            " [ 0.59131873  0.37934122]\n",
            " [-0.60730032 -1.01216159]\n",
            " [ 1.43740278 -0.25999791]\n",
            " [-0.67780733  1.39476218]\n",
            " [-0.74831433  0.60499032]\n",
            " [-1.03034234 -0.82412067]\n",
            " [-0.60730032  0.6425985 ]\n",
            " [ 2.21297981 -0.56086338]\n",
            " [ 0.02726271  0.30412485]\n",
            " [-0.25476531  1.20672126]\n",
            " [-0.60730032  1.43237037]\n",
            " [ 0.09776971  0.30412485]\n",
            " [ 0.73233274 -0.82412067]\n",
            " [-0.25476531 -1.50106798]\n",
            " [ 0.59131873 -0.67368793]\n",
            " [ 0.30929072  0.6425985 ]\n",
            " [-1.38287736  0.07847574]\n",
            " [ 0.52081173 -1.35063525]\n",
            " [-0.1842583   1.5828031 ]\n",
            " [-0.0432443   0.37934122]\n",
            " [-0.53679332 -1.65150072]\n",
            " [ 0.52081173 -0.25999791]\n",
            " [ 1.9309518   0.07847574]\n",
            " [-1.31237036  0.45455758]\n",
            " [ 0.30929072 -0.48564702]\n",
            " [ 0.45030473 -1.23781069]\n",
            " [-1.38287736  0.11608393]\n",
            " [-0.1842583   0.98107216]\n",
            " [ 1.08486776 -0.5232552 ]\n",
            " [ 1.78993779 -1.57628435]\n",
            " [-0.88932834 -0.25999791]\n",
            " [ 0.87334675  0.22890848]\n",
            " [-0.46628632  0.56738213]]\n"
          ]
        }
      ]
    },
    {
      "cell_type": "code",
      "source": [
        "from sklearn.neighbors import KNeighborsClassifier\n",
        "classifier = KNeighborsClassifier(n_neighbors = 5, metric = 'minkowski', p=2)\n",
        "classifier.fit(x_train, y_train)"
      ],
      "metadata": {
        "colab": {
          "base_uri": "https://localhost:8080/",
          "height": 75
        },
        "id": "yVhiwr_wq2Iv",
        "outputId": "04411210-c797-44a0-e850-bc02274cdb7a"
      },
      "execution_count": 80,
      "outputs": [
        {
          "output_type": "execute_result",
          "data": {
            "text/plain": [
              "KNeighborsClassifier()"
            ],
            "text/html": [
              "<style>#sk-container-id-3 {color: black;background-color: white;}#sk-container-id-3 pre{padding: 0;}#sk-container-id-3 div.sk-toggleable {background-color: white;}#sk-container-id-3 label.sk-toggleable__label {cursor: pointer;display: block;width: 100%;margin-bottom: 0;padding: 0.3em;box-sizing: border-box;text-align: center;}#sk-container-id-3 label.sk-toggleable__label-arrow:before {content: \"▸\";float: left;margin-right: 0.25em;color: #696969;}#sk-container-id-3 label.sk-toggleable__label-arrow:hover:before {color: black;}#sk-container-id-3 div.sk-estimator:hover label.sk-toggleable__label-arrow:before {color: black;}#sk-container-id-3 div.sk-toggleable__content {max-height: 0;max-width: 0;overflow: hidden;text-align: left;background-color: #f0f8ff;}#sk-container-id-3 div.sk-toggleable__content pre {margin: 0.2em;color: black;border-radius: 0.25em;background-color: #f0f8ff;}#sk-container-id-3 input.sk-toggleable__control:checked~div.sk-toggleable__content {max-height: 200px;max-width: 100%;overflow: auto;}#sk-container-id-3 input.sk-toggleable__control:checked~label.sk-toggleable__label-arrow:before {content: \"▾\";}#sk-container-id-3 div.sk-estimator input.sk-toggleable__control:checked~label.sk-toggleable__label {background-color: #d4ebff;}#sk-container-id-3 div.sk-label input.sk-toggleable__control:checked~label.sk-toggleable__label {background-color: #d4ebff;}#sk-container-id-3 input.sk-hidden--visually {border: 0;clip: rect(1px 1px 1px 1px);clip: rect(1px, 1px, 1px, 1px);height: 1px;margin: -1px;overflow: hidden;padding: 0;position: absolute;width: 1px;}#sk-container-id-3 div.sk-estimator {font-family: monospace;background-color: #f0f8ff;border: 1px dotted black;border-radius: 0.25em;box-sizing: border-box;margin-bottom: 0.5em;}#sk-container-id-3 div.sk-estimator:hover {background-color: #d4ebff;}#sk-container-id-3 div.sk-parallel-item::after {content: \"\";width: 100%;border-bottom: 1px solid gray;flex-grow: 1;}#sk-container-id-3 div.sk-label:hover label.sk-toggleable__label {background-color: #d4ebff;}#sk-container-id-3 div.sk-serial::before {content: \"\";position: absolute;border-left: 1px solid gray;box-sizing: border-box;top: 0;bottom: 0;left: 50%;z-index: 0;}#sk-container-id-3 div.sk-serial {display: flex;flex-direction: column;align-items: center;background-color: white;padding-right: 0.2em;padding-left: 0.2em;position: relative;}#sk-container-id-3 div.sk-item {position: relative;z-index: 1;}#sk-container-id-3 div.sk-parallel {display: flex;align-items: stretch;justify-content: center;background-color: white;position: relative;}#sk-container-id-3 div.sk-item::before, #sk-container-id-3 div.sk-parallel-item::before {content: \"\";position: absolute;border-left: 1px solid gray;box-sizing: border-box;top: 0;bottom: 0;left: 50%;z-index: -1;}#sk-container-id-3 div.sk-parallel-item {display: flex;flex-direction: column;z-index: 1;position: relative;background-color: white;}#sk-container-id-3 div.sk-parallel-item:first-child::after {align-self: flex-end;width: 50%;}#sk-container-id-3 div.sk-parallel-item:last-child::after {align-self: flex-start;width: 50%;}#sk-container-id-3 div.sk-parallel-item:only-child::after {width: 0;}#sk-container-id-3 div.sk-dashed-wrapped {border: 1px dashed gray;margin: 0 0.4em 0.5em 0.4em;box-sizing: border-box;padding-bottom: 0.4em;background-color: white;}#sk-container-id-3 div.sk-label label {font-family: monospace;font-weight: bold;display: inline-block;line-height: 1.2em;}#sk-container-id-3 div.sk-label-container {text-align: center;}#sk-container-id-3 div.sk-container {/* jupyter's `normalize.less` sets `[hidden] { display: none; }` but bootstrap.min.css set `[hidden] { display: none !important; }` so we also need the `!important` here to be able to override the default hidden behavior on the sphinx rendered scikit-learn.org. See: https://github.com/scikit-learn/scikit-learn/issues/21755 */display: inline-block !important;position: relative;}#sk-container-id-3 div.sk-text-repr-fallback {display: none;}</style><div id=\"sk-container-id-3\" class=\"sk-top-container\"><div class=\"sk-text-repr-fallback\"><pre>KNeighborsClassifier()</pre><b>In a Jupyter environment, please rerun this cell to show the HTML representation or trust the notebook. <br />On GitHub, the HTML representation is unable to render, please try loading this page with nbviewer.org.</b></div><div class=\"sk-container\" hidden><div class=\"sk-item\"><div class=\"sk-estimator sk-toggleable\"><input class=\"sk-toggleable__control sk-hidden--visually\" id=\"sk-estimator-id-3\" type=\"checkbox\" checked><label for=\"sk-estimator-id-3\" class=\"sk-toggleable__label sk-toggleable__label-arrow\">KNeighborsClassifier</label><div class=\"sk-toggleable__content\"><pre>KNeighborsClassifier()</pre></div></div></div></div></div>"
            ]
          },
          "metadata": {},
          "execution_count": 80
        }
      ]
    },
    {
      "cell_type": "code",
      "source": [
        "y_pred = classifier.predict(x_test)"
      ],
      "metadata": {
        "id": "m0lJpzJtrZV2"
      },
      "execution_count": 81,
      "outputs": []
    },
    {
      "cell_type": "code",
      "source": [
        "from sklearn.metrics import confusion_matrix\n",
        "cm = confusion_matrix(y_test, y_pred)\n",
        "print(cm)"
      ],
      "metadata": {
        "colab": {
          "base_uri": "https://localhost:8080/"
        },
        "id": "8pjmnai_rgkP",
        "outputId": "e8bb035b-6763-481f-c5c5-4cf42926f15a"
      },
      "execution_count": 82,
      "outputs": [
        {
          "output_type": "stream",
          "name": "stdout",
          "text": [
            "[[0 0 0 ... 0 0 0]\n",
            " [0 0 1 ... 0 0 0]\n",
            " [0 0 0 ... 0 0 0]\n",
            " ...\n",
            " [0 0 0 ... 0 0 0]\n",
            " [0 0 0 ... 0 0 0]\n",
            " [0 0 0 ... 0 0 0]]\n"
          ]
        }
      ]
    },
    {
      "cell_type": "code",
      "source": [
        "from matplotlib.colors import ListedColormap\n",
        "x_set, y_set = x_train, y_train\n",
        "x1, x2 = np.meshgrid(np.arange(start=x_set[:, 0].min()-1, stop=x_set[:, 0].max()+1, step = 0.01),\n",
        "                     np.arange(start=x_set[:, 1].min()-1, stop=x_set[:, 1].max()+1, step = 0.01))\n",
        "plt.contourf(x1, x2, classifier.predict(np.array([x1.ravel(), x2.ravel()]).T).reshape(x1.shape),\n",
        "             alpha = 0.75, cmap = ListedColormap(('red', 'green')))\n",
        "plt.xlim(x1.min(), x1.max())\n",
        "plt.ylim(x2.min(), x2.max())\n",
        "for i, j in enumerate (np.unique(y_set)):\n",
        "  plt.scatter(x_set[y_set == j, 0], x_set[y_set == j, 1],\n",
        "              c = ListedColormap(('red', 'green'))(i), label = j)\n",
        "plt.title('Klasifikasi Data Dengan K-NN (Data Training')\n",
        "plt.xlabel('Umur')\n",
        "plt.ylabel('pendapatan')\n",
        "plt.legend()\n",
        "plt.show()"
      ],
      "metadata": {
        "colab": {
          "base_uri": "https://localhost:8080/",
          "height": 1000
        },
        "id": "AVx_2uoKsCUG",
        "outputId": "46e20bd0-3eb3-4982-e6da-d44fd8b033ae"
      },
      "execution_count": 83,
      "outputs": [
        {
          "output_type": "stream",
          "name": "stderr",
          "text": [
            "<ipython-input-83-183940f14754>:10: UserWarning: *c* argument looks like a single numeric RGB or RGBA sequence, which should be avoided as value-mapping will have precedence in case its length matches with *x* & *y*.  Please use the *color* keyword-argument or provide a 2D array with a single row if you intend to specify the same RGB or RGBA value for all points.\n",
            "  plt.scatter(x_set[y_set == j, 0], x_set[y_set == j, 1],\n"
          ]
        },
        {
          "output_type": "display_data",
          "data": {
            "text/plain": [
              "<Figure size 640x480 with 1 Axes>"
            ],
            "image/png": "[encoded data removed]"
          },
          "metadata": {}
        }
      ]
    }
  ]
}