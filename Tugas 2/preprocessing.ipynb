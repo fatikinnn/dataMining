{
  "nbformat": 4,
  "nbformat_minor": 0,
  "metadata": {
    "colab": {
      "provenance": []
    },
    "kernelspec": {
      "name": "python3",
      "display_name": "Python 3"
    },
    "language_info": {
      "name": "python"
    }
  },
  "cells": [
    {
      "cell_type": "code",
      "execution_count": 73,
      "metadata": {
        "id": "YDCzgQIMdzsP"
      },
      "outputs": [],
      "source": [
        "import numpy as np\n",
        "import matplotlib.pyplot as plt\n",
        "import pandas as pd"
      ]
    },
    {
      "cell_type": "code",
      "source": [
        "dataset = pd.read_csv('Data.csv')\n",
        "x = dataset.iloc[:, : -1].values\n",
        "y = dataset.iloc[:, -1].values"
      ],
      "metadata": {
        "id": "KFnnJ7hHkadK"
      },
      "execution_count": 74,
      "outputs": []
    },
    {
      "cell_type": "code",
      "source": [
        "print(x)"
      ],
      "metadata": {
        "id": "MwRZ4SCEqLYI",
        "colab": {
          "base_uri": "https://localhost:8080/"
        },
        "outputId": "48d05478-f5c6-4d5a-85a3-398ed0925105"
      },
      "execution_count": null,
      "outputs": [
        {
          "output_type": "stream",
          "name": "stdout",
          "text": [
            "[[2.3  1.97 1.8  1.56]\n",
            " [1.81 1.68 1.57 1.86]\n",
            " [3.07 3.   2.75 3.21]\n",
            " ...\n",
            " [3.31 3.25 3.44 3.52]\n",
            " [3.44 3.35 3.5  3.5 ]\n",
            " [3.18 3.05 3.05 3.27]]\n"
          ]
        }
      ]
    },
    {
      "cell_type": "code",
      "source": [
        "print(y)"
      ],
      "metadata": {
        "colab": {
          "base_uri": "https://localhost:8080/"
        },
        "id": "J5FLw4unsmlx",
        "outputId": "100c5bf8-f8ce-4096-be7a-615dc74ace95"
      },
      "execution_count": null,
      "outputs": [
        {
          "output_type": "stream",
          "name": "stdout",
          "text": [
            "['Tidak' 'Tidak' 'Tidak' ... 'Ya' 'Ya' 'Ya']\n"
          ]
        }
      ]
    },
    {
      "cell_type": "code",
      "source": [
        "from sklearn.impute import SimpleImputer\n",
        "imputer = SimpleImputer(missing_values=np.nan, strategy='mean')\n",
        "imputer.fit(x[:, 1:4])\n",
        "x[:, 1:4] = imputer.transform(x[:, 1:4])"
      ],
      "metadata": {
        "id": "XT9aA3Qgsr1K"
      },
      "execution_count": 75,
      "outputs": []
    },
    {
      "cell_type": "code",
      "source": [
        "print(x)"
      ],
      "metadata": {
        "colab": {
          "base_uri": "https://localhost:8080/"
        },
        "id": "JsB76zBgtgzW",
        "outputId": "eb947f41-d2c1-4a0a-e5cb-f2584706bd0f"
      },
      "execution_count": null,
      "outputs": [
        {
          "output_type": "stream",
          "name": "stdout",
          "text": [
            "  (0, 32)\t1.0\n",
            "  (0, 172)\t1.97\n",
            "  (0, 173)\t1.8\n",
            "  (0, 174)\t1.56\n",
            "  (1, 12)\t1.0\n",
            "  (1, 172)\t1.68\n",
            "  (1, 173)\t1.57\n",
            "  (1, 174)\t1.86\n",
            "  (2, 101)\t1.0\n",
            "  (2, 172)\t3.0\n",
            "  (2, 173)\t2.75\n",
            "  (2, 174)\t3.21\n",
            "  (3, 66)\t1.0\n",
            "  (3, 172)\t2.33\n",
            "  (3, 173)\t2.61\n",
            "  (3, 174)\t1.98\n",
            "  (4, 111)\t1.0\n",
            "  (4, 172)\t3.02\n",
            "  (4, 173)\t3.28\n",
            "  (4, 174)\t2.96\n",
            "  (5, 110)\t1.0\n",
            "  (5, 172)\t3.45\n",
            "  (5, 173)\t3.02\n",
            "  (5, 174)\t3.06\n",
            "  (6, 67)\t1.0\n",
            "  :\t:\n",
            "  (1680, 174)\t3.38\n",
            "  (1681, 114)\t1.0\n",
            "  (1681, 172)\t3.26\n",
            "  (1681, 173)\t3.36\n",
            "  (1681, 174)\t3.5\n",
            "  (1682, 101)\t1.0\n",
            "  (1682, 172)\t3.04\n",
            "  (1682, 173)\t3.39\n",
            "  (1682, 174)\t3.55\n",
            "  (1683, 123)\t1.0\n",
            "  (1683, 172)\t3.22\n",
            "  (1683, 173)\t3.33\n",
            "  (1683, 174)\t3.68\n",
            "  (1684, 125)\t1.0\n",
            "  (1684, 172)\t3.25\n",
            "  (1684, 173)\t3.44\n",
            "  (1684, 174)\t3.52\n",
            "  (1685, 138)\t1.0\n",
            "  (1685, 172)\t3.35\n",
            "  (1685, 173)\t3.5\n",
            "  (1685, 174)\t3.5\n",
            "  (1686, 112)\t1.0\n",
            "  (1686, 172)\t3.05\n",
            "  (1686, 173)\t3.05\n",
            "  (1686, 174)\t3.27\n"
          ]
        }
      ]
    },
    {
      "cell_type": "code",
      "source": [
        "from sklearn.compose import ColumnTransformer\n",
        "from sklearn.preprocessing import OneHotEncoder\n",
        "ct = ColumnTransformer(transformers=[('encoder', OneHotEncoder(), [0])], remainder='passthrough')\n",
        "x = np.array(ct.fit_transform(x))"
      ],
      "metadata": {
        "id": "CcFaoh3PtnI9"
      },
      "execution_count": 68,
      "outputs": []
    },
    {
      "cell_type": "code",
      "source": [
        "print(x)"
      ],
      "metadata": {
        "colab": {
          "base_uri": "https://localhost:8080/"
        },
        "id": "I4ghotsUucad",
        "outputId": "0a6156fe-caee-467b-8eb1-d7cd26d551a8"
      },
      "execution_count": 69,
      "outputs": [
        {
          "output_type": "stream",
          "name": "stdout",
          "text": [
            "  (0, 32)\t1.0\n",
            "  (0, 172)\t1.97\n",
            "  (0, 173)\t1.8\n",
            "  (0, 174)\t1.56\n",
            "  (1, 12)\t1.0\n",
            "  (1, 172)\t1.68\n",
            "  (1, 173)\t1.57\n",
            "  (1, 174)\t1.86\n",
            "  (2, 101)\t1.0\n",
            "  (2, 172)\t3.0\n",
            "  (2, 173)\t2.75\n",
            "  (2, 174)\t3.21\n",
            "  (3, 66)\t1.0\n",
            "  (3, 172)\t2.33\n",
            "  (3, 173)\t2.61\n",
            "  (3, 174)\t1.98\n",
            "  (4, 111)\t1.0\n",
            "  (4, 172)\t3.02\n",
            "  (4, 173)\t3.28\n",
            "  (4, 174)\t2.96\n",
            "  (5, 110)\t1.0\n",
            "  (5, 172)\t3.45\n",
            "  (5, 173)\t3.02\n",
            "  (5, 174)\t3.06\n",
            "  (6, 67)\t1.0\n",
            "  :\t:\n",
            "  (1680, 174)\t3.38\n",
            "  (1681, 114)\t1.0\n",
            "  (1681, 172)\t3.26\n",
            "  (1681, 173)\t3.36\n",
            "  (1681, 174)\t3.5\n",
            "  (1682, 101)\t1.0\n",
            "  (1682, 172)\t3.04\n",
            "  (1682, 173)\t3.39\n",
            "  (1682, 174)\t3.55\n",
            "  (1683, 123)\t1.0\n",
            "  (1683, 172)\t3.22\n",
            "  (1683, 173)\t3.33\n",
            "  (1683, 174)\t3.68\n",
            "  (1684, 125)\t1.0\n",
            "  (1684, 172)\t3.25\n",
            "  (1684, 173)\t3.44\n",
            "  (1684, 174)\t3.52\n",
            "  (1685, 138)\t1.0\n",
            "  (1685, 172)\t3.35\n",
            "  (1685, 173)\t3.5\n",
            "  (1685, 174)\t3.5\n",
            "  (1686, 112)\t1.0\n",
            "  (1686, 172)\t3.05\n",
            "  (1686, 173)\t3.05\n",
            "  (1686, 174)\t3.27\n"
          ]
        }
      ]
    },
    {
      "cell_type": "code",
      "source": [
        "from sklearn.preprocessing import LabelEncoder\n",
        "le = LabelEncoder()\n",
        "y = le.fit_transform(y)"
      ],
      "metadata": {
        "id": "Zwj4j2hKvTML"
      },
      "execution_count": 79,
      "outputs": []
    },
    {
      "cell_type": "code",
      "source": [
        "print(y)"
      ],
      "metadata": {
        "colab": {
          "base_uri": "https://localhost:8080/"
        },
        "id": "pofX5DhhvnyY",
        "outputId": "c00cd021-e101-49a7-bec8-1c07d9ecc4cf"
      },
      "execution_count": 80,
      "outputs": [
        {
          "output_type": "stream",
          "name": "stdout",
          "text": [
            "[0 0 0 ... 1 1 1]\n"
          ]
        }
      ]
    },
    {
      "cell_type": "code",
      "source": [
        "from sklearn.model_selection import train_test_split\n",
        "x_train, x_test, y_train, y_test = train_test_split(x, y, test_size=0.2, random_state=1)"
      ],
      "metadata": {
        "id": "-gU2GZ5tvtge"
      },
      "execution_count": 81,
      "outputs": []
    },
    {
      "cell_type": "code",
      "source": [
        "print(x_train)"
      ],
      "metadata": {
        "colab": {
          "base_uri": "https://localhost:8080/"
        },
        "id": "F1DYNFmqz8_7",
        "outputId": "3aa99fc4-24b7-4c5f-c29a-cba55a2ffee8"
      },
      "execution_count": 82,
      "outputs": [
        {
          "output_type": "stream",
          "name": "stdout",
          "text": [
            "[[2.95 2.95 3.24 3.19]\n",
            " [3.35 3.14 3.28 3.31]\n",
            " [3.6  3.65 3.49 3.36]\n",
            " ...\n",
            " [3.65 3.76 3.2  3.37]\n",
            " [2.87 3.01 3.16 3.1 ]\n",
            " [3.07 3.27 3.38 3.26]]\n"
          ]
        }
      ]
    },
    {
      "cell_type": "code",
      "source": [
        "print(x_test)"
      ],
      "metadata": {
        "colab": {
          "base_uri": "https://localhost:8080/"
        },
        "id": "U6WHVTQ00ClW",
        "outputId": "8e1eb40b-0083-46a5-8a86-cbf9ecf512ba"
      },
      "execution_count": 83,
      "outputs": [
        {
          "output_type": "stream",
          "name": "stdout",
          "text": [
            "[[3.45 3.25 3.65 3.61]\n",
            " [3.43 3.22 3.06 3.16]\n",
            " [2.89 3.09 3.06 3.26]\n",
            " ...\n",
            " [3.09 3.35 3.52 3.56]\n",
            " [3.03 3.59 3.47 3.31]\n",
            " [3.21 3.27 3.31 3.52]]\n"
          ]
        }
      ]
    },
    {
      "cell_type": "code",
      "source": [
        "print(y_train)"
      ],
      "metadata": {
        "colab": {
          "base_uri": "https://localhost:8080/"
        },
        "id": "DUdSY4V90HdW",
        "outputId": "6ddd4f70-a826-4d0b-f112-bc23d2d1ced0"
      },
      "execution_count": 84,
      "outputs": [
        {
          "output_type": "stream",
          "name": "stdout",
          "text": [
            "[1 0 1 ... 1 0 1]\n"
          ]
        }
      ]
    },
    {
      "cell_type": "code",
      "source": [
        "print(y_test)"
      ],
      "metadata": {
        "colab": {
          "base_uri": "https://localhost:8080/"
        },
        "id": "OrMaHqPw0Lq2",
        "outputId": "efaed09f-c9f4-42c5-a14f-141ceb93abfb"
      },
      "execution_count": null,
      "outputs": [
        {
          "output_type": "stream",
          "name": "stdout",
          "text": [
            "['Ya' 'Ya' 'Ya' 'Ya' 'Ya' 'Ya' 'Ya' 'Ya' 'Ya' 'Ya' 'Ya' 'Ya' 'Ya' 'Ya'\n",
            " 'Ya' 'Ya' 'Ya' 'Ya' 'Ya' 'Ya' 'Ya' 'Ya' 'Ya' 'Ya' 'Ya' 'Ya' 'Ya' 'Ya'\n",
            " 'Ya' 'Ya' 'Ya' 'Ya' 'Ya' 'Tidak' 'Ya' 'Ya' 'Ya' 'Ya' 'Ya' 'Ya' 'Ya'\n",
            " 'Tidak' 'Ya' 'Ya' 'Ya' 'Ya' 'Ya' 'Ya' 'Ya' 'Ya' 'Ya' 'Ya' 'Ya' 'Ya' 'Ya'\n",
            " 'Ya' 'Ya' 'Ya' 'Ya' 'Ya' 'Ya' 'Ya' 'Ya' 'Ya' 'Ya' 'Ya' 'Ya' 'Ya' 'Ya'\n",
            " 'Ya' 'Ya' 'Tidak' 'Tidak' 'Ya' 'Ya' 'Ya' 'Ya' 'Ya' 'Ya' 'Ya' 'Ya' 'Tidak'\n",
            " 'Ya' 'Ya' 'Ya' 'Ya' 'Tidak' 'Ya' 'Ya' 'Ya' 'Ya' 'Ya' 'Ya' 'Ya' 'Ya' 'Ya'\n",
            " 'Tidak' 'Ya' 'Ya' 'Ya' 'Ya' 'Ya' 'Ya' 'Ya' 'Ya' 'Ya' 'Ya' 'Ya' 'Tidak'\n",
            " 'Ya' 'Ya' 'Ya' 'Ya' 'Ya' 'Tidak' 'Ya' 'Ya' 'Ya' 'Ya' 'Ya' 'Ya' 'Ya' 'Ya'\n",
            " 'Ya' 'Ya' 'Ya' 'Ya' 'Ya' 'Ya' 'Ya' 'Ya' 'Ya' 'Ya' 'Ya' 'Ya' 'Ya' 'Tidak'\n",
            " 'Ya' 'Ya' 'Ya' 'Ya' 'Ya' 'Ya' 'Tidak' 'Ya' 'Tidak' 'Tidak' 'Ya' 'Ya' 'Ya'\n",
            " 'Ya' 'Ya' 'Ya' 'Ya' 'Ya' 'Ya' 'Ya' 'Ya' 'Ya' 'Ya' 'Ya' 'Ya' 'Ya' 'Ya'\n",
            " 'Tidak' 'Tidak' 'Ya' 'Ya' 'Ya' 'Ya' 'Ya' 'Ya' 'Ya' 'Tidak' 'Ya' 'Ya' 'Ya'\n",
            " 'Ya' 'Ya' 'Ya' 'Ya' 'Ya' 'Ya' 'Ya' 'Ya' 'Ya' 'Ya' 'Ya' 'Ya' 'Ya' 'Ya'\n",
            " 'Ya' 'Ya' 'Ya' 'Ya' 'Ya' 'Ya' 'Ya' 'Ya' 'Ya' 'Ya' 'Ya' 'Tidak' 'Ya' 'Ya'\n",
            " 'Ya' 'Ya' 'Ya' 'Ya' 'Tidak' 'Ya' 'Ya' 'Ya' 'Ya' 'Tidak' 'Ya' 'Ya' 'Ya'\n",
            " 'Ya' 'Ya' 'Ya' 'Ya' 'Ya' 'Ya' 'Ya' 'Ya' 'Ya' 'Ya' 'Ya' 'Ya' 'Ya' 'Ya'\n",
            " 'Ya' 'Ya' 'Ya' 'Ya' 'Ya' 'Ya' 'Ya' 'Ya' 'Ya' 'Ya' 'Ya' 'Ya' 'Tidak' 'Ya'\n",
            " 'Ya' 'Ya' 'Ya' 'Ya' 'Ya' 'Ya' 'Ya' 'Ya' 'Ya' 'Ya' 'Ya' 'Tidak' 'Ya' 'Ya'\n",
            " 'Ya' 'Ya' 'Ya' 'Ya' 'Ya' 'Ya' 'Tidak' 'Ya' 'Ya' 'Tidak' 'Ya' 'Ya' 'Ya'\n",
            " 'Ya' 'Ya' 'Ya' 'Ya' 'Ya' 'Ya' 'Ya' 'Ya' 'Ya' 'Ya' 'Tidak' 'Ya' 'Tidak'\n",
            " 'Ya' 'Ya' 'Ya' 'Ya' 'Ya' 'Ya' 'Ya' 'Ya' 'Ya' 'Ya' 'Ya' 'Ya' 'Ya' 'Ya'\n",
            " 'Ya' 'Ya' 'Ya' 'Ya' 'Tidak' 'Ya' 'Ya' 'Ya' 'Ya' 'Ya' 'Ya' 'Ya' 'Ya' 'Ya'\n",
            " 'Tidak' 'Ya' 'Ya' 'Ya' 'Ya' 'Ya' 'Ya' 'Ya' 'Ya' 'Ya' 'Tidak' 'Tidak' 'Ya'\n",
            " 'Ya' 'Tidak' 'Ya' 'Ya' 'Tidak' 'Ya' 'Ya' 'Ya' 'Ya' 'Ya' 'Ya']\n"
          ]
        }
      ]
    },
    {
      "cell_type": "code",
      "source": [
        "from sklearn.preprocessing import StandardScaler\n",
        "sc = StandardScaler()\n",
        "x_train[:, 1:] = sc.fit_transform(x_train[:, 1:])\n",
        "x_test[:, 1:] = sc.transform(x_test[:, 1:])"
      ],
      "metadata": {
        "id": "HlQH95XV0VZp"
      },
      "execution_count": 87,
      "outputs": []
    },
    {
      "cell_type": "code",
      "source": [
        "print(x_train)"
      ],
      "metadata": {
        "colab": {
          "base_uri": "https://localhost:8080/"
        },
        "id": "qUqB9PDi2lQn",
        "outputId": "d078bae5-8dc5-49de-871e-b54ed82a78e8"
      },
      "execution_count": 88,
      "outputs": [
        {
          "output_type": "stream",
          "name": "stdout",
          "text": [
            "[[ 2.95       -0.4996301  -0.04171619 -0.23322039]\n",
            " [ 3.35       -0.07945755  0.07626105  0.06503934]\n",
            " [ 3.6         1.04837405  0.69564157  0.18931423]\n",
            " ...\n",
            " [ 3.65        1.29163184 -0.15969344  0.21416921]\n",
            " [ 2.87       -0.36694403 -0.27767068 -0.45691519]\n",
            " [ 3.07        0.20802894  0.37120416 -0.05923555]]\n"
          ]
        }
      ]
    }
  ]
}